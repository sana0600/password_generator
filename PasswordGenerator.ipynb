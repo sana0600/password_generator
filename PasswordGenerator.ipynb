{
  "nbformat": 4,
  "nbformat_minor": 0,
  "metadata": {
    "colab": {
      "provenance": []
    },
    "kernelspec": {
      "name": "python3",
      "display_name": "Python 3"
    },
    "language_info": {
      "name": "python"
    }
  },
  "cells": [
    {
      "cell_type": "code",
      "execution_count": 34,
      "metadata": {
        "id": "AtDH8vBciW6x"
      },
      "outputs": [],
      "source": [
        "#import libraries\n",
        "import random\n",
        "import string"
      ]
    },
    {
      "cell_type": "code",
      "source": [
        "def passwordGenerator():\n",
        "# Write your logic and requirements here #\n",
        "\n",
        "    lowerchars = ['a','b','c','d','e']\n",
        "\n",
        "    upperchars = ['A','B','C','D','E']\n",
        "\n",
        "    specialchars = ['&','!','*']\n",
        "\n",
        "    numericchars = ['1','2','3','4','5']\n",
        "\n",
        "    password = random.choice(lowerchars)+random.choice(upperchars)+random.choice(numericchars)\n",
        "\n",
        "    password = password + random.choice(specialchars) + random.choice(upperchars)+ password + random.choice(lowerchars)+ random.choice(specialchars)\n",
        "\n",
        "    return password"
      ],
      "metadata": {
        "id": "VHrhVP0aiilg"
      },
      "execution_count": 35,
      "outputs": []
    },
    {
      "cell_type": "code",
      "source": [
        "n=int(input(\"Enter number of passwords to generate : \"))\n",
        "#read input"
      ],
      "metadata": {
        "colab": {
          "base_uri": "https://localhost:8080/"
        },
        "id": "x5tdRPEWilP2",
        "outputId": "08c139f3-b554-41a7-e06c-cbc1ef0a54c6"
      },
      "execution_count": 36,
      "outputs": [
        {
          "name": "stdout",
          "output_type": "stream",
          "text": [
            "Enter number of passwords to generate : 10\n"
          ]
        }
      ]
    },
    {
      "cell_type": "code",
      "source": [
        "print(\"Generated Passwords\")\n",
        "for _ in range(n):\n",
        "  #call function n times\n",
        "  generatedPassword=passwordGenerator()\n",
        "\n",
        "  print(generatedPassword)"
      ],
      "metadata": {
        "colab": {
          "base_uri": "https://localhost:8080/"
        },
        "id": "6S10G52wi8kY",
        "outputId": "ebf02f02-0df9-4288-caea-d88925fb8f52"
      },
      "execution_count": 37,
      "outputs": [
        {
          "output_type": "stream",
          "name": "stdout",
          "text": [
            "Generated Passwords\n",
            "bC2&AbC2c!\n",
            "cA2&CcA2e*\n",
            "bE2&DbE2c*\n",
            "dB1&EdB1b&\n",
            "dD3*BdD3a!\n",
            "cC5!DcC5e&\n",
            "cD1*DcD1b&\n",
            "eB2!DeB2b&\n",
            "cE4*DcE4c*\n",
            "dA4!DdA4c&\n"
          ]
        }
      ]
    }
  ]
}